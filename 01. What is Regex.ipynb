{
 "cells": [
  {
   "cell_type": "markdown",
   "id": "f23ff27b",
   "metadata": {},
   "source": [
    "# Introduction: What is Regex?\n",
    "\n",
    "Regardless of programming language and field, almost every programmer will at some point in their programming journey encounter the task of string pattern matching and the solution of **regular expressions** (aka regexes or REs). So it is a great idea for you to gain at least a basic understanding of regexes, which can be very useful in certain situations.\n",
    "\n",
    "In this series of tutorials, we will learn all about the syntax of regular expressions and how regex can be used in Python through its `re` module. Today, we will focus on regex as a concept and learn what it is and what it can do."
   ]
  },
  {
   "cell_type": "markdown",
   "id": "c4b935d8",
   "metadata": {},
   "source": [
    "## What is regex?\n",
    "\n",
    "Even if you have never used regexes, you have likely heard of the concept. So what are regular expressions? When do we use them, why, and how?\n",
    "\n",
    "You can think of regex as a very specialized language syntax designed for just one specific job: matching patterns in strings. A regular expression is a **sequence of characters**, often represented as a string in programs. This sequence of characters defines a **pattern**. We can then use this pattern to do a variety of things, such as searching a text for sections that match the pattern, replacing matched substrings, etc."
   ]
  },
  {
   "cell_type": "markdown",
   "id": "bfe6ff8f",
   "metadata": {},
   "source": [
    "## What can regexes do?\n",
    "\n",
    "We now know regular expressions allow us to do string pattern matching, but what does that mean? Well, using regular expressions, we can do many things such as\n",
    "\n",
    "* Looking through a large unorganized text document and extracting all the email addresses\n",
    "* Determining whether or not a phone number entered by a user is valid (regardless of whether and where they used `()` and `-`, etc)\n",
    "* Counting the number of links in a text message (URLs come in all shapes and forms - e.g. `https://google.com` vs `google.com` vs `https://mail.google.com/mail`)\n",
    "* Scanning a document for home addresses and redacting them for privacy reasons\n",
    "\n",
    "These tasks would be extremely challenging using a normal program without some specialized help like regular expressions. Just imagine the number of `if` statements any of these would need.\n",
    "\n",
    "The difficulty with these operations is their nature of **pattern matching**. Take email addresses as an example. They can be of any length, so indexing/slicing would be problematic. They don't all start with the same thing, so we can't just match for a specific text. All we know is the general pattern: `something@something.something`.\n",
    "\n",
    "Regular expressions are capable of matching a string against such a pattern and solving the example tasks above and much more.\n",
    "\n",
    "Regexes can also be used outside of programming, in operations such as find or find and replace when working with text documents."
   ]
  },
  {
   "cell_type": "markdown",
   "id": "3efebe42",
   "metadata": {},
   "source": [
    "## Regex in programming\n",
    "\n",
    "Because regular expressions are so commonly used, many popular programming languages have built-in support for them. We can access the magical powers of regex in Python through its `re` module. Starting in the next lesson, we will start exploring the `re` module and channel the powers of regular expressions through Python."
   ]
  },
  {
   "cell_type": "markdown",
   "id": "dc1ae09b",
   "metadata": {},
   "source": [
    "## Summary\n",
    "\n",
    "Good job! You have reached the end of the first lesson of this Python regex series. Today, you learned about regular expressions as a concept and learned when to use it. In the next lesson, we will continue learning about the powers of regular expressions in Python, getting hands-on with working with regex in code."
   ]
  }
 ],
 "metadata": {
  "kernelspec": {
   "display_name": "Python 3 (ipykernel)",
   "language": "python",
   "name": "python3"
  },
  "language_info": {
   "codemirror_mode": {
    "name": "ipython",
    "version": 3
   },
   "file_extension": ".py",
   "mimetype": "text/x-python",
   "name": "python",
   "nbconvert_exporter": "python",
   "pygments_lexer": "ipython3",
   "version": "3.10.7"
  }
 },
 "nbformat": 4,
 "nbformat_minor": 5
}
