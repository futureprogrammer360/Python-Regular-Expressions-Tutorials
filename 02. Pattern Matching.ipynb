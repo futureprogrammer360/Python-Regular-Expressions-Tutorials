{
 "cells": [
  {
   "cell_type": "markdown",
   "id": "ceb4b63c",
   "metadata": {},
   "source": [
    "# Pattern Matching\n",
    "\n",
    "The most fundamental and useful operations that regular expressions allow us to do all have to do with pattern matching. In this lesson, we will explore the matching operations supported by Python's `re` module."
   ]
  },
  {
   "cell_type": "markdown",
   "id": "55dee93e",
   "metadata": {},
   "source": [
    "The `re` module comes with Python in the standard installation, so we can simply import it."
   ]
  },
  {
   "cell_type": "code",
   "execution_count": 1,
   "id": "56e491fb",
   "metadata": {},
   "outputs": [],
   "source": [
    "import re"
   ]
  },
  {
   "cell_type": "markdown",
   "id": "b484f321",
   "metadata": {},
   "source": [
    "## Matching operations\n",
    "\n",
    "To perform a regex pattern matching operation using Python's `re`, we need 3 things\n",
    "\n",
    "1. The **pattern**\n",
    "2. The **string** we are matching the pattern against\n",
    "3. The type of **matching operation** we want to do"
   ]
  },
  {
   "cell_type": "markdown",
   "id": "957fbc19",
   "metadata": {},
   "source": [
    "### Pattern\n",
    "To use a pattern in regexes, we first need to compile it, which can be done with the `re.compile()` function, which returns a `Pattern` object that we can use later on."
   ]
  },
  {
   "cell_type": "code",
   "execution_count": 2,
   "id": "6855aa6b",
   "metadata": {},
   "outputs": [
    {
     "name": "stdout",
     "output_type": "stream",
     "text": [
      "re.compile('Python')\n",
      "<class 're.Pattern'>\n"
     ]
    }
   ],
   "source": [
    "pattern = re.compile(\"Python\")\n",
    "print(pattern)\n",
    "print(type(pattern))"
   ]
  },
  {
   "cell_type": "markdown",
   "id": "0af31954",
   "metadata": {},
   "source": [
    "Note: In this lesson, we are focusing on familiarizing with matching methods. So rather than using actual *patterns* like we would in real programs, we are simply using the string `\"Python\"`. In later lessons, we will learn about matching against real patterns like *letters, numbers, whitespaces, etc*."
   ]
  },
  {
   "cell_type": "markdown",
   "id": "db60714c",
   "metadata": {},
   "source": [
    "### String\n",
    "\n",
    "We can match our pattern against any string. We will deal with that last."
   ]
  },
  {
   "cell_type": "markdown",
   "id": "961cd9a7",
   "metadata": {},
   "source": [
    "### Matching operation\n",
    "\n",
    "Lastly, we need to choose what kind of pattern matching we want to do (or what we want our program to do with the matching results). Here are our options\n",
    "\n",
    "| Method        | Description                                           | Returns                                        |\n",
    "|---------------|-------------------------------------------------------|------------------------------------------------|\n",
    "| `match()`     | matches pattern against the **beginning** of the text | `None` if no match; 1 `Match` object otherwise |\n",
    "| `fullmatch()` | matches pattern against the **full** text             | `None` if no match; 1 `Match` object otherwise |\n",
    "| `search()`    | **searches** the entire text for presence of pattern  | `None` if no match; 1 `Match` object otherwise |\n",
    "| `findall()`   | **finds all** matches in text                         | `list` of `str`s                               |\n",
    "| `finditer()`  | **finds all** matches in text                         | `iterator` of `Match` objects                  |\n",
    "| `sub()`       | **substitutes** matches in text                       | `str`                                          |\n",
    "| `split()`     | **splits** text by pattern matches                    | `list` of split substrings                     |"
   ]
  },
  {
   "cell_type": "markdown",
   "id": "7eb8f48f",
   "metadata": {},
   "source": [
    "To run a matching operation, we can simply call the corresponding method on the `Pattern` object with the text as argument."
   ]
  },
  {
   "cell_type": "code",
   "execution_count": 3,
   "id": "53d35fa7",
   "metadata": {},
   "outputs": [
    {
     "name": "stdout",
     "output_type": "stream",
     "text": [
      "<re.Match object; span=(0, 6), match='Python'>\n",
      "<class 're.Match'>\n",
      "None\n"
     ]
    }
   ],
   "source": [
    "match = pattern.match(\"Python is amazing! Python is awesome!\")\n",
    "print(match)\n",
    "print(type(match))\n",
    "\n",
    "match = pattern.match(\"I love Python! Python is amazing!\")\n",
    "print(match)"
   ]
  },
  {
   "cell_type": "code",
   "execution_count": 4,
   "id": "7cae3b6d",
   "metadata": {},
   "outputs": [
    {
     "name": "stdout",
     "output_type": "stream",
     "text": [
      "<re.Match object; span=(0, 6), match='Python'>\n",
      "<class 're.Match'>\n",
      "None\n"
     ]
    }
   ],
   "source": [
    "match = pattern.fullmatch(\"Python\")\n",
    "print(match)\n",
    "print(type(match))\n",
    "\n",
    "match = pattern.fullmatch(\"Python \")\n",
    "print(match)"
   ]
  },
  {
   "cell_type": "code",
   "execution_count": 5,
   "id": "0518145d",
   "metadata": {},
   "outputs": [
    {
     "name": "stdout",
     "output_type": "stream",
     "text": [
      "<re.Match object; span=(7, 13), match='Python'>\n",
      "<class 're.Match'>\n",
      "None\n"
     ]
    }
   ],
   "source": [
    "match = pattern.search(\"I love Python! Python is amazing!\")\n",
    "print(match)\n",
    "print(type(match))\n",
    "\n",
    "match = pattern.search(\"I love python! python is amazing!\")\n",
    "print(match)"
   ]
  },
  {
   "cell_type": "code",
   "execution_count": 6,
   "id": "55271c38",
   "metadata": {},
   "outputs": [
    {
     "name": "stdout",
     "output_type": "stream",
     "text": [
      "['Python', 'Python']\n",
      "<class 'list'>\n",
      "<class 'str'>\n"
     ]
    }
   ],
   "source": [
    "matches = pattern.findall(\"I love Python! Python is amazing!\")\n",
    "print(matches)\n",
    "print(type(matches))\n",
    "print(type(matches[0]))"
   ]
  },
  {
   "cell_type": "code",
   "execution_count": 7,
   "id": "be118f9f",
   "metadata": {},
   "outputs": [
    {
     "name": "stdout",
     "output_type": "stream",
     "text": [
      "<callable_iterator object at 0x00000247AF9C4C70>\n",
      "<class 'callable_iterator'>\n",
      "<re.Match object; span=(7, 13), match='Python'>\n",
      "<class 're.Match'>\n",
      "<re.Match object; span=(15, 21), match='Python'>\n",
      "<class 're.Match'>\n"
     ]
    }
   ],
   "source": [
    "matches = pattern.finditer(\"I love Python! Python is amazing!\")\n",
    "print(matches)\n",
    "print(type(matches))\n",
    "\n",
    "for match in matches:\n",
    "    print(match)\n",
    "    print(type(match))"
   ]
  },
  {
   "cell_type": "code",
   "execution_count": 8,
   "id": "b45b7f46",
   "metadata": {},
   "outputs": [
    {
     "name": "stdout",
     "output_type": "stream",
     "text": [
      "C++ is a language called C++\n",
      "R is a language\n"
     ]
    }
   ],
   "source": [
    "new_string = pattern.sub(\"C++\", \"Python is a language called Python\")\n",
    "print(new_string)\n",
    "\n",
    "new_string = pattern.sub(\"C++\", \"R is a language\")\n",
    "print(new_string)"
   ]
  },
  {
   "cell_type": "code",
   "execution_count": 9,
   "id": "1be127aa",
   "metadata": {},
   "outputs": [
    {
     "name": "stdout",
     "output_type": "stream",
     "text": [
      "['A', 'B', 'C', 'D']\n",
      "['A', 'B', 'CPythonD']\n",
      "['ABCD']\n"
     ]
    }
   ],
   "source": [
    "print(pattern.split(\"APythonBPythonCPythonD\"))\n",
    "print(pattern.split(\"APythonBPythonCPythonD\", maxsplit=2))\n",
    "print(pattern.split(\"ABCD\"))"
   ]
  },
  {
   "cell_type": "markdown",
   "id": "b48259ab",
   "metadata": {},
   "source": [
    "## Module-level functions\n",
    "\n",
    "All the operations above were done using methods of `re.Pattern` objects. Alternatively, we can also use module-level functions of the `re` module to do the same things."
   ]
  },
  {
   "cell_type": "code",
   "execution_count": 10,
   "id": "3ccd4d71",
   "metadata": {},
   "outputs": [
    {
     "name": "stdout",
     "output_type": "stream",
     "text": [
      "<re.Match object; span=(0, 6), match='Python'>\n",
      "<re.Match object; span=(0, 6), match='Python'>\n",
      "<re.Match object; span=(7, 13), match='Python'>\n",
      "['Python', 'Python']\n",
      "<callable_iterator object at 0x00000247AF9D60B0>\n",
      "C++ is a language called C++\n",
      "['A', 'B', 'C', 'D']\n"
     ]
    }
   ],
   "source": [
    "s = \"Python\"\n",
    "print(re.match(s, \"Python is amazing! Python is awesome!\"))\n",
    "print(re.fullmatch(s, \"Python\"))\n",
    "print(re.search(s, \"I love Python! Python is amazing!\"))\n",
    "print(re.findall(s, \"I love Python! Python is amazing!\"))\n",
    "print(re.finditer(s, \"I love Python! Python is amazing!\"))\n",
    "print(re.sub(s, \"C++\", \"Python is a language called Python\"))\n",
    "print(re.split(s, \"APythonBPythonCPythonD\"))"
   ]
  },
  {
   "cell_type": "markdown",
   "id": "2308729e",
   "metadata": {},
   "source": [
    "Whether you use methods of `Pattern` objects or functions of the `re` module is up to you. The behavior is similar with no significant advantage to either."
   ]
  },
  {
   "cell_type": "markdown",
   "id": "d40707dd",
   "metadata": {},
   "source": [
    "## Summary\n",
    "\n",
    "That is it for basic pattern matching in Python using regular expressions. Of course, actual programs typically contain patterns more complicated than the `\"Python\"` we saw in today's examples. In the upcoming lessons, we will learn about more ways to use regular expressions to fit our program's needs."
   ]
  }
 ],
 "metadata": {
  "kernelspec": {
   "display_name": "Python 3 (ipykernel)",
   "language": "python",
   "name": "python3"
  },
  "language_info": {
   "codemirror_mode": {
    "name": "ipython",
    "version": 3
   },
   "file_extension": ".py",
   "mimetype": "text/x-python",
   "name": "python",
   "nbconvert_exporter": "python",
   "pygments_lexer": "ipython3",
   "version": "3.10.7"
  }
 },
 "nbformat": 4,
 "nbformat_minor": 5
}
