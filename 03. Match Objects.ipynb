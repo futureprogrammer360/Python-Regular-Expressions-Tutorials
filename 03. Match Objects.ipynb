{
 "cells": [
  {
   "cell_type": "markdown",
   "id": "27d5c016",
   "metadata": {},
   "source": [
    "# Match Objects\n",
    "\n",
    "Many of the matching operations supported by `re` return instances of the `Match` class. These `Match` objects give us some useful information about the section of the text matched by the regex pattern specified. Today's lesson is all about what we can do with these `Match` objects."
   ]
  },
  {
   "cell_type": "code",
   "execution_count": 1,
   "id": "368fd5f3",
   "metadata": {},
   "outputs": [],
   "source": [
    "import re"
   ]
  },
  {
   "cell_type": "code",
   "execution_count": 2,
   "id": "43e3ff78",
   "metadata": {},
   "outputs": [
    {
     "name": "stdout",
     "output_type": "stream",
     "text": [
      "<re.Match object; span=(3, 6), match='ABC'>\n",
      "123ABC!@#\n",
      "ABC\n",
      "(3, 6)\n",
      "3\n",
      "6\n"
     ]
    }
   ],
   "source": [
    "mo = re.search(\"ABC\", \"123ABC!@#\")\n",
    "print(mo)\n",
    "print(mo.string)\n",
    "print(mo.group())\n",
    "print(mo.span())\n",
    "print(mo.start())\n",
    "print(mo.end())"
   ]
  },
  {
   "cell_type": "code",
   "execution_count": 3,
   "id": "a9650cf2",
   "metadata": {},
   "outputs": [
    {
     "name": "stdout",
     "output_type": "stream",
     "text": [
      "None\n",
      "There is not a match\n"
     ]
    }
   ],
   "source": [
    "mo = re.search(\"ABC\", \"123AC!@#\")\n",
    "print(mo)\n",
    "\n",
    "if mo:\n",
    "    print(\"There is a match\")\n",
    "else:\n",
    "    print(\"There is not a match\")"
   ]
  },
  {
   "cell_type": "markdown",
   "id": "a6bce15a",
   "metadata": {},
   "source": [
    "## Summary\n",
    "\n",
    "And now you know what you can do with `Match` objects of Python's `re` module when writing programs involving regular expressions."
   ]
  }
 ],
 "metadata": {
  "kernelspec": {
   "display_name": "Python 3 (ipykernel)",
   "language": "python",
   "name": "python3"
  },
  "language_info": {
   "codemirror_mode": {
    "name": "ipython",
    "version": 3
   },
   "file_extension": ".py",
   "mimetype": "text/x-python",
   "name": "python",
   "nbconvert_exporter": "python",
   "pygments_lexer": "ipython3",
   "version": "3.10.7"
  }
 },
 "nbformat": 4,
 "nbformat_minor": 5
}
