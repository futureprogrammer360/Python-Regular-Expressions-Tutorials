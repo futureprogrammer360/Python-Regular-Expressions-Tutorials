{
 "cells": [
  {
   "cell_type": "markdown",
   "id": "96e309e0",
   "metadata": {},
   "source": [
    "# Character Classes\n",
    "\n",
    "In the previous lessons, we used regular expressions to match typical strings like `\"Python\"`. This isn't what regexes are usually used for though, since matching fixed strings can be very easily done without regexes.\n",
    "\n",
    "Typically, when we use regexes, we are searching a text for characters from a set of characters (aka character class). This can be a predefined/standard character class or a class we define for our program."
   ]
  },
  {
   "cell_type": "code",
   "execution_count": 1,
   "id": "8b1de737",
   "metadata": {},
   "outputs": [],
   "source": [
    "import re"
   ]
  },
  {
   "cell_type": "markdown",
   "id": "3aad6b76",
   "metadata": {},
   "source": [
    "## Defining classes\n",
    "\n",
    "To define a character class, we use the `[]` characters, two of Python `re`'s **metacharacters** (characters with special meanings).\n",
    "\n",
    "Inside of the `[]`, we place a set of characters. There are several ways to do this, depending on the specific set. The first way is to just enter all the characters in the class. For instance, if we want to match something among the characters `a`, `b`, and `c`, we can just write `[abc]`."
   ]
  },
  {
   "cell_type": "code",
   "execution_count": 2,
   "id": "4e480ae9",
   "metadata": {},
   "outputs": [
    {
     "name": "stdout",
     "output_type": "stream",
     "text": [
      "['a']\n",
      "['@']\n"
     ]
    }
   ],
   "source": [
    "pattern = re.compile(\"[abc]\")\n",
    "print(pattern.findall(\"Programming\"))\n",
    "\n",
    "print(re.findall(\"[h1@]\", \"Hello, @futureprogrammer360\"))"
   ]
  },
  {
   "cell_type": "markdown",
   "id": "eca4b443",
   "metadata": {},
   "source": [
    "`-` in sets allows us to match a range of characters."
   ]
  },
  {
   "cell_type": "code",
   "execution_count": 3,
   "id": "efe0417c",
   "metadata": {
    "scrolled": true
   },
   "outputs": [
    {
     "name": "stdout",
     "output_type": "stream",
     "text": [
      "['b', 'c', 'd', 'e', 'f']\n",
      "['A', 'a', 'B', 'b']\n",
      "['312', '423']\n"
     ]
    }
   ],
   "source": [
    "print(re.findall(\"[b-f]\", \"abcdefgh\"))\n",
    "print(re.findall(\"[a-zA-Z]\", \"AaBb123!@#\"))\n",
    "print(re.findall(\"[3-4][0-3][2-4]\", \"312423567\"))"
   ]
  },
  {
   "cell_type": "markdown",
   "id": "6176435b",
   "metadata": {},
   "source": [
    "`^` complements a set, allowing us to match anything *not* in the given set. Note that `^` must appear as the **first** character of the class definition."
   ]
  },
  {
   "cell_type": "code",
   "execution_count": 4,
   "id": "f892d67c",
   "metadata": {},
   "outputs": [
    {
     "name": "stdout",
     "output_type": "stream",
     "text": [
      "['A', 'B', 'C', '!', '@', '^']\n",
      "['1', '2', '3', '^']\n",
      "['A', 'B', 'C', '1', '!', '@', '^']\n"
     ]
    }
   ],
   "source": [
    "print(re.findall(\"[^0-9]\", \"ABC123!@^\"))\n",
    "print(re.findall(\"[0-9^]\", \"ABC123!@^\"))\n",
    "print(re.findall(\"[^23]\", \"ABC123!@^\"))"
   ]
  },
  {
   "cell_type": "markdown",
   "id": "c950ba49",
   "metadata": {},
   "source": [
    "## Predefined sequences\n",
    "\n",
    "While we can always define our own character classes, there are also some special sequences that we don't need to define ourselves.\n",
    "\n",
    "| Character | Equivalent Class | Description                 |\n",
    "|-----------|------------------|-----------------------------|\n",
    "| `\\w`      | `[a-zA-Z0-9_]`   | Alphanumeric characters     |\n",
    "| `\\W`      | `[^a-zA-Z0-9_]`  | Non-alphanumeric characters |\n",
    "| `\\d`      | `[0-9]`          | Number digits               |\n",
    "| `\\D`      | `[^0-9]`         | Non-digit characters        |\n",
    "| `\\s`      | `[ \\t\\n\\r\\f\\v]`  | Whitespace characters       |\n",
    "| `\\S`      | `[^ \\t\\n\\r\\f\\v]` | Non-whitespace characters   |\n",
    "\n",
    "Because in Python strings, the `\\` character has special meaning (think `\\n` and `\\t`), we have to insert 2 `\\`s to insert a literal `\\` character."
   ]
  },
  {
   "cell_type": "code",
   "execution_count": 5,
   "id": "6601a2c2",
   "metadata": {},
   "outputs": [
    {
     "name": "stdout",
     "output_type": "stream",
     "text": [
      "['A', 'a', '1', '2']\n",
      "[' ', '\\t', '*', '&']\n",
      "['1', '2']\n",
      "['A', 'a', ' ', '\\t', '*', '&']\n",
      "[' ', '\\t']\n",
      "['A', 'a', '1', '2', '*', '&']\n"
     ]
    }
   ],
   "source": [
    "print(re.findall(\"\\\\w\", \"Aa12 \\t*&\"))\n",
    "print(re.findall(\"\\\\W\", \"Aa12 \\t*&\"))\n",
    "print(re.findall(\"\\\\d\", \"Aa12 \\t*&\"))\n",
    "print(re.findall(\"\\\\D\", \"Aa12 \\t*&\"))\n",
    "print(re.findall(\"\\\\s\", \"Aa12 \\t*&\"))\n",
    "print(re.findall(\"\\\\S\", \"Aa12 \\t*&\"))"
   ]
  },
  {
   "cell_type": "markdown",
   "id": "916f64f7",
   "metadata": {},
   "source": [
    "The more `\\`s we write, the more unreadable our regexes become. To solve that problem, we can use r-strings (raw strings). In r-strings, `\\`s are treated as literal `\\` characters."
   ]
  },
  {
   "cell_type": "code",
   "execution_count": 6,
   "id": "5abd6d2f",
   "metadata": {
    "scrolled": true
   },
   "outputs": [
    {
     "name": "stdout",
     "output_type": "stream",
     "text": [
      "['2', '0', '0', '5', '0', '0']\n"
     ]
    }
   ],
   "source": [
    "pattern = re.compile(r\"\\d\")\n",
    "print(pattern.findall(\"I have 200 dogs and 500 cats\"))"
   ]
  },
  {
   "cell_type": "markdown",
   "id": "a14f59b0",
   "metadata": {},
   "source": [
    "Lastly, we can also combine self-defined and pre-defined character classes."
   ]
  },
  {
   "cell_type": "code",
   "execution_count": 7,
   "id": "8ff8e155",
   "metadata": {},
   "outputs": [
    {
     "name": "stdout",
     "output_type": "stream",
     "text": [
      "['a', 'c', '1', '2', '3']\n"
     ]
    }
   ],
   "source": [
    "pattern = re.compile(r\"[a\\dc]\")\n",
    "print(pattern.findall(\"abc123\"))"
   ]
  },
  {
   "cell_type": "markdown",
   "id": "c507beb0",
   "metadata": {},
   "source": [
    "## `.`\n",
    "\n",
    "`.` is a special character that defines a character set that matches anything except a newline character."
   ]
  },
  {
   "cell_type": "code",
   "execution_count": 8,
   "id": "d75e12ca",
   "metadata": {},
   "outputs": [
    {
     "name": "stdout",
     "output_type": "stream",
     "text": [
      "['A1A']\n",
      "['A$A']\n",
      "[]\n",
      "[]\n"
     ]
    }
   ],
   "source": [
    "pattern = re.compile(\"A.A\")\n",
    "print(pattern.findall(\"A1A\"))\n",
    "print(pattern.findall(\"A$A\"))\n",
    "print(pattern.findall(\"A\\nA\"))\n",
    "print(pattern.findall(\"A11A\"))"
   ]
  },
  {
   "cell_type": "markdown",
   "id": "f06e3663",
   "metadata": {},
   "source": [
    "## Summary\n",
    "\n",
    "That is all for today's lesson on character classes in Python regular expressions. You learned how to define your own character sets using `[]`, `-`, and `^`. You also learned to use predefined sequences in your programs. Lastly, you learned to combine self- and pre-defined character classes."
   ]
  }
 ],
 "metadata": {
  "kernelspec": {
   "display_name": "Python 3 (ipykernel)",
   "language": "python",
   "name": "python3"
  },
  "language_info": {
   "codemirror_mode": {
    "name": "ipython",
    "version": 3
   },
   "file_extension": ".py",
   "mimetype": "text/x-python",
   "name": "python",
   "nbconvert_exporter": "python",
   "pygments_lexer": "ipython3",
   "version": "3.10.7"
  }
 },
 "nbformat": 4,
 "nbformat_minor": 5
}
