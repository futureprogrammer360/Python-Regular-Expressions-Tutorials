{
 "cells": [
  {
   "cell_type": "markdown",
   "id": "8f50d0ed",
   "metadata": {},
   "source": [
    "# Repeating Characters\n",
    "\n",
    "Regular expressions are useful because we can specify patterns with some uncertainty. For instance, we can write a pattern such that a character in it is a numerical digit, which allows it to be 1 out of 10 characters.\n",
    "\n",
    "Furthermore, as you will see today, regex allows us to define a pattern such that we can leave some uncertainty about **how many times** each character occurs in a text for a match to occur.\n",
    "\n",
    "By default, every character in a regex pattern matches just 1 character. Today's lesson is all about creating regex patterns that match 0 or more, 1 or more, 0 or 1, a specific number of, or a specific range of occurences of a character."
   ]
  },
  {
   "cell_type": "code",
   "execution_count": 1,
   "id": "00a658af",
   "metadata": {},
   "outputs": [],
   "source": [
    "import re"
   ]
  },
  {
   "cell_type": "markdown",
   "id": "7ff1c8b6",
   "metadata": {},
   "source": [
    "## Repeating characters\n",
    "\n",
    "The pattern `abc` will match the text `abc`. What if we want to match `abbc` and `abbbbbbbbbc` as well?\n",
    "\n",
    "To do this, we need to tell regex that the `b` in the pattern can occur 1 or more times. To do this, we add an operator **after** the character `b`. The pattern then becomes `ab+c`, where `+` is the operator."
   ]
  },
  {
   "cell_type": "markdown",
   "id": "2959827a",
   "metadata": {},
   "source": [
    "### Zero or more occurrences\n",
    "\n",
    "`*` is a special character in a regex pattern that modifies a character to occur **zero or more times**."
   ]
  },
  {
   "cell_type": "code",
   "execution_count": 2,
   "id": "876097c3",
   "metadata": {},
   "outputs": [
    {
     "name": "stdout",
     "output_type": "stream",
     "text": [
      "['hey']\n",
      "['he']\n",
      "['heyyyyyyyyyyy']\n",
      "['heyyy']\n"
     ]
    }
   ],
   "source": [
    "pattern = re.compile(\"hey*\")\n",
    "print(pattern.findall(\"hey\"))\n",
    "print(pattern.findall(\"he\"))\n",
    "print(pattern.findall(\"heyyyyyyyyyyy\"))\n",
    "print(pattern.findall(\"heyyy.yyyyyyyy\"))"
   ]
  },
  {
   "cell_type": "markdown",
   "id": "0b213582",
   "metadata": {},
   "source": [
    "### One or more occurrences\n",
    "\n",
    "`+` is a special character in a regex pattern that matches a character **one or more times**."
   ]
  },
  {
   "cell_type": "code",
   "execution_count": 3,
   "id": "fb3b8bd2",
   "metadata": {},
   "outputs": [
    {
     "name": "stdout",
     "output_type": "stream",
     "text": [
      "['hey']\n",
      "[]\n",
      "['heyyyyyyyyyyy']\n",
      "['heyyy']\n"
     ]
    }
   ],
   "source": [
    "pattern = re.compile(\"hey+\")\n",
    "print(pattern.findall(\"hey\"))\n",
    "print(pattern.findall(\"he\"))\n",
    "print(pattern.findall(\"heyyyyyyyyyyy\"))\n",
    "print(pattern.findall(\"heyyy.yyyyyyyy\"))"
   ]
  },
  {
   "cell_type": "markdown",
   "id": "f902d652",
   "metadata": {},
   "source": [
    "### Zero or one occurences\n",
    "\n",
    "`?` is a special character that matches a character zero or one times, basically making them optional in matching operations."
   ]
  },
  {
   "cell_type": "code",
   "execution_count": 4,
   "id": "27a736e5",
   "metadata": {},
   "outputs": [
    {
     "name": "stdout",
     "output_type": "stream",
     "text": [
      "['code']\n",
      "['coder']\n",
      "['coder']\n",
      "['coder']\n",
      "['code']\n"
     ]
    }
   ],
   "source": [
    "pattern = re.compile(\"coder?\")\n",
    "print(pattern.findall(\"code\"))\n",
    "print(pattern.findall(\"coder\"))\n",
    "print(pattern.findall(\"coderr\"))\n",
    "print(pattern.findall(\"ccoderr\"))\n",
    "print(pattern.findall(\"code.\"))"
   ]
  },
  {
   "cell_type": "markdown",
   "id": "37b359f6",
   "metadata": {},
   "source": [
    "### Exact number of occurences\n",
    "\n",
    "The syntax `{m}` indicates that the character modified needs to occur exactly `m` times to be matched."
   ]
  },
  {
   "cell_type": "code",
   "execution_count": 5,
   "id": "80370e8c",
   "metadata": {},
   "outputs": [
    {
     "name": "stdout",
     "output_type": "stream",
     "text": [
      "[]\n",
      "['wateeeer']\n",
      "[]\n"
     ]
    }
   ],
   "source": [
    "pattern = re.compile(\"wate{4}r\")\n",
    "print(pattern.findall(\"wateeer\"))\n",
    "print(pattern.findall(\"wateeeer\"))\n",
    "print(pattern.findall(\"wateeeeer\"))"
   ]
  },
  {
   "cell_type": "markdown",
   "id": "b1fee13f",
   "metadata": {},
   "source": [
    "### Range of occurences\n",
    "\n",
    "A modifier with the syntax `{min,max}` allows us to specify a range of times a character/set can occur for a text to match.\n",
    "\n",
    "For example, `{3,6}` indicates the character/character set modified can be repeated 3, 4, 5, or 6 times.\n",
    "\n",
    "Parts of the modifier can be omitted:\n",
    "* `{min,}` means `max` is infinity\n",
    "* `{,max}` means `min` is 0"
   ]
  },
  {
   "cell_type": "code",
   "execution_count": 6,
   "id": "cd776255",
   "metadata": {
    "scrolled": true
   },
   "outputs": [
    {
     "name": "stdout",
     "output_type": "stream",
     "text": [
      "[]\n",
      "['waater']\n",
      "['waaater']\n",
      "['waaaater']\n",
      "[]\n"
     ]
    }
   ],
   "source": [
    "pattern = re.compile(\"wa{2,4}ter\")\n",
    "print(pattern.findall(\"water\"))\n",
    "print(pattern.findall(\"waater\"))\n",
    "print(pattern.findall(\"waaater\"))\n",
    "print(pattern.findall(\"waaaater\"))\n",
    "print(pattern.findall(\"waaaaater\"))"
   ]
  },
  {
   "cell_type": "code",
   "execution_count": 7,
   "id": "cfb12ceb",
   "metadata": {},
   "outputs": [
    {
     "name": "stdout",
     "output_type": "stream",
     "text": [
      "[]\n",
      "['wattter']\n",
      "['wattttttttttttttttttttttttttttttttttttttter']\n"
     ]
    }
   ],
   "source": [
    "pattern = re.compile(\"wat{3,}er\")\n",
    "print(pattern.findall(\"watter\"))\n",
    "print(pattern.findall(\"wattter\"))\n",
    "print(pattern.findall(\"wattttttttttttttttttttttttttttttttttttttter\"))"
   ]
  },
  {
   "cell_type": "code",
   "execution_count": 8,
   "id": "ef2f3077",
   "metadata": {},
   "outputs": [
    {
     "name": "stdout",
     "output_type": "stream",
     "text": [
      "['waer']\n",
      "['water']\n",
      "['watter']\n",
      "['wattter']\n",
      "[]\n"
     ]
    }
   ],
   "source": [
    "pattern = re.compile(\"wat{,3}er\")\n",
    "print(pattern.findall(\"waer\"))\n",
    "print(pattern.findall(\"water\"))\n",
    "print(pattern.findall(\"watter\"))\n",
    "print(pattern.findall(\"wattter\"))\n",
    "print(pattern.findall(\"watttter\"))"
   ]
  },
  {
   "cell_type": "markdown",
   "id": "e7254d63",
   "metadata": {},
   "source": [
    "### Repeating character classes\n",
    "\n",
    "In addition to repeating individual characters, we can also use regex to repeat characters that belong to a class."
   ]
  },
  {
   "cell_type": "code",
   "execution_count": 9,
   "id": "f1ab14c9",
   "metadata": {},
   "outputs": [
    {
     "name": "stdout",
     "output_type": "stream",
     "text": [
      "<re.Match object; span=(0, 16), match='FutureProgrammer'>\n",
      "None\n"
     ]
    }
   ],
   "source": [
    "pattern = re.compile(\"[a-zA-Z]+\")\n",
    "print(pattern.fullmatch(\"FutureProgrammer\"))\n",
    "print(pattern.fullmatch(\"FutureProgrammer360\"))"
   ]
  },
  {
   "cell_type": "markdown",
   "id": "9b844c98",
   "metadata": {},
   "source": [
    "## Summary\n",
    "\n",
    "That will be all for today's lesson on repetition modifiers. Now you can use regexes to match texts of varying lengths. This greatly increases the power of regular expressions."
   ]
  }
 ],
 "metadata": {
  "kernelspec": {
   "display_name": "Python 3 (ipykernel)",
   "language": "python",
   "name": "python3"
  },
  "language_info": {
   "codemirror_mode": {
    "name": "ipython",
    "version": 3
   },
   "file_extension": ".py",
   "mimetype": "text/x-python",
   "name": "python",
   "nbconvert_exporter": "python",
   "pygments_lexer": "ipython3",
   "version": "3.10.7"
  }
 },
 "nbformat": 4,
 "nbformat_minor": 5
}
