{
 "cells": [
  {
   "cell_type": "markdown",
   "id": "0f0d2310",
   "metadata": {},
   "source": [
    "# Grouping\n",
    "\n",
    "When using regular expressions, it is sometimes useful to divide a text into groups. For example, if we are searching a text for email addresses, we could be interested in more than just the addresses themselves. We could be interested in the different parts of the email addresses. To access them, we can divide an email address pattern into 2 groups of characters: username and domain, which are matched separately."
   ]
  },
  {
   "cell_type": "code",
   "execution_count": 1,
   "id": "6a446eea",
   "metadata": {},
   "outputs": [],
   "source": [
    "import re"
   ]
  },
  {
   "cell_type": "markdown",
   "id": "d24f803c",
   "metadata": {},
   "source": [
    "## Basic grouping\n",
    "\n",
    "For the purpose of having an example, let's say we are attempting to use regex to match a text consisting of 3 parts: 3 letters, 2 whitespace characters, and a 3 numbers.\n",
    "\n",
    "Grouping allows us to access parts of the matched text separately. In this case, we can get the letters, whitespaces, and numbers independently. This isn't the most useful when the lengths of the groups are fixed, but as you will see, it is extremely useful when the lengths are variable."
   ]
  },
  {
   "cell_type": "code",
   "execution_count": 2,
   "id": "50541524",
   "metadata": {},
   "outputs": [
    {
     "name": "stdout",
     "output_type": "stream",
     "text": [
      "<re.Match object; span=(13, 21), match='abc\\n\\t321'>\n"
     ]
    }
   ],
   "source": [
    "pattern = re.compile(\"([a-zA-Z][a-zA-Z][a-zA-Z])(\\s\\s)(\\d\\d\\d)\")\n",
    "mo = pattern.search(\"The text is: abc\\n\\t321\")\n",
    "print(mo)"
   ]
  },
  {
   "cell_type": "markdown",
   "id": "e1554d20",
   "metadata": {},
   "source": [
    "To access the character groups, we can use the `group()` and `groups()` methods on the `Match` object. Group 0 is the entirety of the matched expression, while groups 1 and on are the parts of the text we capture separately."
   ]
  },
  {
   "cell_type": "code",
   "execution_count": 3,
   "id": "58fa82c6",
   "metadata": {},
   "outputs": [
    {
     "name": "stdout",
     "output_type": "stream",
     "text": [
      "('abc', '\\n\\t', '321')\n"
     ]
    }
   ],
   "source": [
    "print(mo.groups())"
   ]
  },
  {
   "cell_type": "code",
   "execution_count": 4,
   "id": "a5decb6f",
   "metadata": {},
   "outputs": [
    {
     "name": "stdout",
     "output_type": "stream",
     "text": [
      "abc\n",
      "\t321\n",
      "abc\n",
      "\t321\n"
     ]
    }
   ],
   "source": [
    "print(mo.group())\n",
    "print(mo.group(0))"
   ]
  },
  {
   "cell_type": "code",
   "execution_count": 5,
   "id": "d4f45da0",
   "metadata": {
    "scrolled": true
   },
   "outputs": [
    {
     "name": "stdout",
     "output_type": "stream",
     "text": [
      "abc\n",
      "\n",
      "\t\n",
      "321\n"
     ]
    }
   ],
   "source": [
    "print(mo.group(1))\n",
    "print(mo.group(2))\n",
    "print(mo.group(3))"
   ]
  },
  {
   "cell_type": "code",
   "execution_count": 6,
   "id": "21c2ae05",
   "metadata": {
    "scrolled": true
   },
   "outputs": [
    {
     "name": "stdout",
     "output_type": "stream",
     "text": [
      "('321', '\\n\\t', 'abc')\n"
     ]
    }
   ],
   "source": [
    "print(mo.group(3, 2, 1))"
   ]
  },
  {
   "cell_type": "markdown",
   "id": "e66cd85a",
   "metadata": {},
   "source": [
    "Of course, we can use repetition modifiers with grouping when necessary."
   ]
  },
  {
   "cell_type": "code",
   "execution_count": 7,
   "id": "3315f517",
   "metadata": {},
   "outputs": [
    {
     "name": "stdout",
     "output_type": "stream",
     "text": [
      "('182891231230', '128379')\n"
     ]
    }
   ],
   "source": [
    "pattern = re.compile(\"(\\d+)-(\\d+)\")\n",
    "mo = pattern.search(\"182891231230-128379AAAA\")\n",
    "print(mo.groups())"
   ]
  },
  {
   "cell_type": "markdown",
   "id": "85fc684f",
   "metadata": {},
   "source": [
    "## Named groups\n",
    "\n",
    "We can also name groups to more easily access them.\n",
    "\n",
    "The syntax is\n",
    "\n",
    "```python\n",
    "(?P<name>...)\n",
    "```\n",
    "\n",
    "where `name` is the identifier of the group and `...` represents the pattern."
   ]
  },
  {
   "cell_type": "code",
   "execution_count": 8,
   "id": "b0b2f260",
   "metadata": {},
   "outputs": [
    {
     "name": "stdout",
     "output_type": "stream",
     "text": [
      "{'last': 'Programmer', 'first': 'Future'}\n",
      "Future\n",
      "Programmer\n"
     ]
    }
   ],
   "source": [
    "pattern = re.compile(\"(?P<last>\\w+), (?P<first>\\w+)\")\n",
    "mo = pattern.search(\"Programmer, Future\")\n",
    "print(mo.groupdict())\n",
    "print(mo.group(\"first\"))\n",
    "print(mo.group(\"last\"))"
   ]
  },
  {
   "cell_type": "markdown",
   "id": "a09c2d72",
   "metadata": {},
   "source": [
    "## Summary\n",
    "\n",
    "Now that you have learned about grouping in regular expressions, you have everything you need to know to match different parts of texts separately in groups."
   ]
  }
 ],
 "metadata": {
  "kernelspec": {
   "display_name": "Python 3 (ipykernel)",
   "language": "python",
   "name": "python3"
  },
  "language_info": {
   "codemirror_mode": {
    "name": "ipython",
    "version": 3
   },
   "file_extension": ".py",
   "mimetype": "text/x-python",
   "name": "python",
   "nbconvert_exporter": "python",
   "pygments_lexer": "ipython3",
   "version": "3.10.7"
  }
 },
 "nbformat": 4,
 "nbformat_minor": 5
}
