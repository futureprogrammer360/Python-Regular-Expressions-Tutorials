{
 "cells": [
  {
   "cell_type": "markdown",
   "id": "b677136c",
   "metadata": {},
   "source": [
    "# Boundaries\n",
    "\n",
    "With regular expressions, we can use **boundaries** to define where exactly in a text a match should occur. For example, using boundary specifications, we can match a pattern only if it occurs as one word."
   ]
  },
  {
   "cell_type": "code",
   "execution_count": 1,
   "id": "f98d6446",
   "metadata": {},
   "outputs": [],
   "source": [
    "import re"
   ]
  },
  {
   "cell_type": "markdown",
   "id": "3679a50d",
   "metadata": {},
   "source": [
    "## Word boundary\n",
    "\n",
    "The `\\b` character is known as a **word boundary**. In other words, we can use `\\b` to ensure that a match against a pattern is only made if the matched text is a word."
   ]
  },
  {
   "cell_type": "code",
   "execution_count": 2,
   "id": "5f475205",
   "metadata": {},
   "outputs": [
    {
     "name": "stdout",
     "output_type": "stream",
     "text": [
      "<re.Match object; span=(10, 15), match='apple'>\n",
      "<re.Match object; span=(13, 18), match='apple'>\n",
      "<re.Match object; span=(12, 17), match='apple'>\n"
     ]
    }
   ],
   "source": [
    "print(re.search(\"apple\", \"I have an apple\"))\n",
    "print(re.search(\"apple\", \"I have a pineapple\"))\n",
    "print(re.search(\"apple\", \"I have some apples\"))"
   ]
  },
  {
   "cell_type": "code",
   "execution_count": 3,
   "id": "2856eca8",
   "metadata": {},
   "outputs": [
    {
     "name": "stdout",
     "output_type": "stream",
     "text": [
      "<re.Match object; span=(10, 15), match='apple'>\n",
      "None\n",
      "None\n"
     ]
    }
   ],
   "source": [
    "print(re.search(r\"\\bapple\\b\", \"I have an apple\"))\n",
    "print(re.search(r\"\\bapple\\b\", \"I have a pineapple\"))\n",
    "print(re.search(r\"\\bapple\\b\", \"I have some apples\"))"
   ]
  },
  {
   "cell_type": "markdown",
   "id": "bba16723",
   "metadata": {},
   "source": [
    "To be more precise, `\\b` defines a boundary between a **word character** and a **non-word character**. If at the location of the `\\b` there is such a word boundary, then a match will be made. Otherwise, a match will not be made. Below are some examples of what are and what are not considered non-word characters. As you will see, characters in class `\\w` are considered word characters, and those in `\\W` are not."
   ]
  },
  {
   "cell_type": "code",
   "execution_count": 4,
   "id": "612f0a75",
   "metadata": {},
   "outputs": [
    {
     "name": "stdout",
     "output_type": "stream",
     "text": [
      "<re.Match object; span=(7, 13), match='python'>\n",
      "<re.Match object; span=(7, 13), match='python'>\n",
      "<re.Match object; span=(7, 13), match='python'>\n"
     ]
    }
   ],
   "source": [
    "print(re.search(r\"\\bpython\", \"i-love-python\"))\n",
    "print(re.search(r\"\\bpython\", \"i love python\"))\n",
    "print(re.search(r\"\\bpython\", \"i.love.python\"))"
   ]
  },
  {
   "cell_type": "code",
   "execution_count": 5,
   "id": "4c88658e",
   "metadata": {},
   "outputs": [
    {
     "name": "stdout",
     "output_type": "stream",
     "text": [
      "None\n",
      "None\n"
     ]
    }
   ],
   "source": [
    "print(re.search(r\"\\bpython\", \"i1love1python\"))\n",
    "print(re.search(r\"\\bpython\", \"i_love_python\"))"
   ]
  },
  {
   "cell_type": "markdown",
   "id": "438f2db6",
   "metadata": {},
   "source": [
    "`\\B` has the opposite behavior of `\\b`. It matches a position that is not considered a word boundary."
   ]
  },
  {
   "cell_type": "code",
   "execution_count": 6,
   "id": "c2d58f34",
   "metadata": {},
   "outputs": [
    {
     "name": "stdout",
     "output_type": "stream",
     "text": [
      "<re.Match object; span=(7, 11), match='city'>\n",
      "<re.Match object; span=(4, 8), match='city'>\n",
      "None\n"
     ]
    }
   ],
   "source": [
    "print(re.search(r\"\\Bcity\", \"electricity\"))\n",
    "print(re.search(r\"\\Bcity\", \"velocity\"))\n",
    "print(re.search(r\"\\Bcity\", \"city\"))"
   ]
  },
  {
   "cell_type": "markdown",
   "id": "a57db6ea",
   "metadata": {},
   "source": [
    "## Line boundary\n",
    "\n",
    "The characters `^` and `$` indicate the **start** and **end** of a line/string in regex, respectively.\n",
    "\n",
    "For example, `^ABC` would only match `ABC` if it is at the start of a string. `ABC$` would only be matched if `ABC` is at the end of a string. The two can be used in combination, of course."
   ]
  },
  {
   "cell_type": "code",
   "execution_count": 7,
   "id": "b850b320",
   "metadata": {},
   "outputs": [
    {
     "name": "stdout",
     "output_type": "stream",
     "text": [
      "None\n",
      "None\n",
      "None\n",
      "<re.Match object; span=(0, 11), match='Hello world'>\n"
     ]
    }
   ],
   "source": [
    "print(re.search(\"^Hello world\", \" Hello world\"))\n",
    "print(re.search(\"Hello world$\", \"Hello world \"))\n",
    "print(re.search(\"^Hello world$\", \" Hello world \"))\n",
    "\n",
    "print(re.search(\"^Hello world$\", \"Hello world\"))"
   ]
  },
  {
   "cell_type": "code",
   "execution_count": 8,
   "id": "5ebda1c7",
   "metadata": {},
   "outputs": [
    {
     "name": "stdout",
     "output_type": "stream",
     "text": [
      "None\n",
      "<re.Match object; span=(0, 16), match='1234784350927462'>\n"
     ]
    }
   ],
   "source": [
    "pattern = re.compile(r\"^\\d+$\")\n",
    "print(pattern.search(\"123478435O927462\"))\n",
    "print(pattern.search(\"1234784350927462\"))"
   ]
  },
  {
   "cell_type": "markdown",
   "id": "aa8c9bec",
   "metadata": {},
   "source": [
    "## Summary\n",
    "\n",
    "In this lesson, you learned how to use `\\b`, `\\B`, `^`, and `$` to indicate  the positional requirements for regex matches in terms of boundaries of words and strings."
   ]
  }
 ],
 "metadata": {
  "kernelspec": {
   "display_name": "Python 3 (ipykernel)",
   "language": "python",
   "name": "python3"
  },
  "language_info": {
   "codemirror_mode": {
    "name": "ipython",
    "version": 3
   },
   "file_extension": ".py",
   "mimetype": "text/x-python",
   "name": "python",
   "nbconvert_exporter": "python",
   "pygments_lexer": "ipython3",
   "version": "3.10.7"
  }
 },
 "nbformat": 4,
 "nbformat_minor": 5
}
