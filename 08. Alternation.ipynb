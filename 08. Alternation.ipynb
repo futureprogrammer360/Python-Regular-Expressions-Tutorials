{
 "cells": [
  {
   "cell_type": "markdown",
   "id": "10bddfea",
   "metadata": {},
   "source": [
    "# Alternation\n",
    "\n",
    "With regular expressions, we can include what are essentially **logical OR** operations in patterns. In regex, this operation is called **alternation**, and is done with the `|` character."
   ]
  },
  {
   "cell_type": "code",
   "execution_count": 1,
   "id": "27dcaa55",
   "metadata": {},
   "outputs": [],
   "source": [
    "import re"
   ]
  },
  {
   "cell_type": "markdown",
   "id": "83bc7e2d",
   "metadata": {},
   "source": [
    "Similar to how character classes are used to match one character out of a set of characters, alternation is used to match **one expression out of several expressions**.\n",
    "\n",
    "For example, if we want to match either `Python` or `JavaScript`, we can simply use the regular expression `Python|JavaScript`."
   ]
  },
  {
   "cell_type": "code",
   "execution_count": 2,
   "id": "f3bfbe3f",
   "metadata": {},
   "outputs": [
    {
     "name": "stdout",
     "output_type": "stream",
     "text": [
      "<re.Match object; span=(24, 30), match='Python'>\n",
      "<re.Match object; span=(24, 34), match='JavaScript'>\n"
     ]
    }
   ],
   "source": [
    "print(re.search(\"Python|JavaScript\", \"I love programming with Python\"))\n",
    "print(re.search(\"Python|JavaScript\", \"I love programming with JavaScript\"))"
   ]
  },
  {
   "cell_type": "code",
   "execution_count": 3,
   "id": "444f3651",
   "metadata": {},
   "outputs": [
    {
     "name": "stdout",
     "output_type": "stream",
     "text": [
      "<re.Match object; span=(24, 31), match='Windows'>\n",
      "<re.Match object; span=(24, 29), match='macOS'>\n",
      "<re.Match object; span=(24, 29), match='Linux'>\n",
      "None\n"
     ]
    }
   ],
   "source": [
    "pattern = re.compile(\"Windows|macOS|Linux\")\n",
    "\n",
    "print(pattern.search(\"My computer runs on the Windows operating system\"))\n",
    "print(pattern.search(\"My computer runs on the macOS operating system\"))\n",
    "print(pattern.search(\"My computer runs on the Linux operating system\"))\n",
    "print(pattern.search(\"My computer runs\"))"
   ]
  },
  {
   "cell_type": "markdown",
   "id": "e5059119",
   "metadata": {},
   "source": [
    "And of course, instead of constant strings as shown above, we can also use more complex regex patterns as shown below."
   ]
  },
  {
   "cell_type": "code",
   "execution_count": 4,
   "id": "c93fd39e",
   "metadata": {
    "scrolled": true
   },
   "outputs": [
    {
     "name": "stdout",
     "output_type": "stream",
     "text": [
      "<re.Match object; span=(0, 4), match='abcd'>\n",
      "<re.Match object; span=(0, 2), match='12'>\n",
      "None\n",
      "None\n"
     ]
    }
   ],
   "source": [
    "pattern = re.compile(r\"^[a-zA-Z]{4}|\\d{2}$\")\n",
    "\n",
    "print(pattern.match(\"abcd\"))\n",
    "print(pattern.match(\"12\"))\n",
    "print(pattern.match(\"ab\"))\n",
    "print(pattern.match(\"1234\"))"
   ]
  },
  {
   "cell_type": "markdown",
   "id": "eec787d1",
   "metadata": {},
   "source": [
    "## Alternation with grouping\n",
    "\n",
    "Let's say we want to match the expressions `I love planes and cars` and `I love trains and cars`. How would we use a regular expression to do so?\n",
    "\n",
    "You might be inclined to write the following regex pattern:"
   ]
  },
  {
   "cell_type": "code",
   "execution_count": 5,
   "id": "29f8be40",
   "metadata": {},
   "outputs": [
    {
     "name": "stdout",
     "output_type": "stream",
     "text": [
      "<re.Match object; span=(0, 13), match='I love planes'>\n",
      "None\n"
     ]
    }
   ],
   "source": [
    "pattern = re.compile(\"I love planes|trains and cars\")\n",
    "print(pattern.match(\"I love planes and cars\"))\n",
    "print(pattern.match(\"I love trains and cars\"))"
   ]
  },
  {
   "cell_type": "code",
   "execution_count": 6,
   "id": "eb053699",
   "metadata": {},
   "outputs": [
    {
     "name": "stdout",
     "output_type": "stream",
     "text": [
      "<re.Match object; span=(0, 13), match='I love planes'>\n",
      "<re.Match object; span=(0, 15), match='trains and cars'>\n"
     ]
    }
   ],
   "source": [
    "print(pattern.match(\"I love planes\"))\n",
    "print(pattern.match(\"trains and cars\"))"
   ]
  },
  {
   "cell_type": "markdown",
   "id": "0f6e23b3",
   "metadata": {},
   "source": [
    "As it turns out, the first and last \"alternates\" of an alternation in regex would extend as far as either ends of the pattern, *unless* stopped by a grouping.\n",
    "\n",
    "Here is the correct regular expression pattern:"
   ]
  },
  {
   "cell_type": "code",
   "execution_count": 7,
   "id": "c0bfebf1",
   "metadata": {},
   "outputs": [
    {
     "name": "stdout",
     "output_type": "stream",
     "text": [
      "<re.Match object; span=(0, 22), match='I love planes and cars'>\n",
      "<re.Match object; span=(0, 22), match='I love trains and cars'>\n"
     ]
    }
   ],
   "source": [
    "pattern = re.compile(\"I love (planes|trains) and cars\")\n",
    "print(pattern.match(\"I love planes and cars\"))\n",
    "print(pattern.match(\"I love trains and cars\"))"
   ]
  },
  {
   "cell_type": "markdown",
   "id": "e87ff713",
   "metadata": {},
   "source": [
    "Alternation can also be used to alternate between prefixes and suffixes of a word, or something similar to that nature."
   ]
  },
  {
   "cell_type": "code",
   "execution_count": 8,
   "id": "85e6255e",
   "metadata": {},
   "outputs": [
    {
     "name": "stdout",
     "output_type": "stream",
     "text": [
      "<re.Match object; span=(0, 13), match='underestimate'>\n",
      "<re.Match object; span=(0, 12), match='overestimate'>\n"
     ]
    }
   ],
   "source": [
    "pattern = re.compile(\"(under|over)estimate\")\n",
    "print(pattern.match(\"underestimate\"))\n",
    "print(pattern.match(\"overestimate\"))"
   ]
  },
  {
   "cell_type": "code",
   "execution_count": 9,
   "id": "2f7764b1",
   "metadata": {},
   "outputs": [
    {
     "name": "stdout",
     "output_type": "stream",
     "text": [
      "<re.Match object; span=(0, 9), match='superstar'>\n",
      "<re.Match object; span=(0, 9), match='superhero'>\n"
     ]
    }
   ],
   "source": [
    "pattern = re.compile(\"super(star|hero)\")\n",
    "print(pattern.match(\"superstar\"))\n",
    "print(pattern.match(\"superhero\"))"
   ]
  },
  {
   "cell_type": "code",
   "execution_count": 10,
   "id": "35e29324",
   "metadata": {},
   "outputs": [
    {
     "name": "stdout",
     "output_type": "stream",
     "text": [
      "<re.Match object; span=(0, 9), match='bilingual'>\n",
      "<re.Match object; span=(0, 10), match='trilingual'>\n",
      "<re.Match object; span=(0, 7), match='bicycle'>\n",
      "<re.Match object; span=(0, 8), match='tricycle'>\n"
     ]
    }
   ],
   "source": [
    "pattern = re.compile(\"(bi|tri)(cycle|lingual)\")\n",
    "print(pattern.match(\"bilingual\"))\n",
    "print(pattern.match(\"trilingual\"))\n",
    "print(pattern.match(\"bicycle\"))\n",
    "print(pattern.match(\"tricycle\"))"
   ]
  },
  {
   "cell_type": "markdown",
   "id": "95153def",
   "metadata": {},
   "source": [
    "## Summary\n",
    "\n",
    "That will be all for today's lesson on alternation, a feature of regular expressions very useful in Python programs. Now, you are able to match multiple variations of a pattern through one regular expression."
   ]
  }
 ],
 "metadata": {
  "kernelspec": {
   "display_name": "Python 3 (ipykernel)",
   "language": "python",
   "name": "python3"
  },
  "language_info": {
   "codemirror_mode": {
    "name": "ipython",
    "version": 3
   },
   "file_extension": ".py",
   "mimetype": "text/x-python",
   "name": "python",
   "nbconvert_exporter": "python",
   "pygments_lexer": "ipython3",
   "version": "3.10.7"
  }
 },
 "nbformat": 4,
 "nbformat_minor": 5
}
