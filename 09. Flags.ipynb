{
 "cells": [
  {
   "cell_type": "markdown",
   "id": "a25cdb42",
   "metadata": {},
   "source": [
    "# Flags\n",
    "\n",
    "Today's Python regular expression lesson is on regex flags. We can use these optional flags to modify regex matching behaviors and enable/disable features."
   ]
  },
  {
   "cell_type": "code",
   "execution_count": 1,
   "id": "db5ff890",
   "metadata": {},
   "outputs": [],
   "source": [
    "import re"
   ]
  },
  {
   "cell_type": "markdown",
   "id": "4d08e0af",
   "metadata": {},
   "source": [
    "Python regex flags are accessible through 2 names, a full name and a one-letter abbreviated name.\n",
    "\n",
    "Below is a table of all the flags:\n",
    "\n",
    "| Full name    | Short name | Description                                                     |\n",
    "|--------------|------------|-----------------------------------------------------------------|\n",
    "| `ASCII`      | `A`        | Makes regex match only ASCII characters instead of full Unicode |\n",
    "| `DOTALL`     | `S`        | Makes `.` match any character, including newline                |\n",
    "| `IGNORECASE` | `I`        | Makes matches case-insensitive                                  |\n",
    "| `LOCALE`     | `L`        | Enables locale-dependent behavior                               |\n",
    "| `MULTILINE`  | `M`        | Modifies behaviors of `^` and `$` in multiline texts            |\n",
    "| `VERBOSE`    | `X`        | Allows more flexible/readable formatting                        |\n",
    "\n",
    "We will be discussing `DOTALL`, `IGNORECASE`, `MULTILINE`, and `VERBOSE` in detail."
   ]
  },
  {
   "cell_type": "markdown",
   "id": "6db7a7a8",
   "metadata": {},
   "source": [
    "## `re.DOTALL`\n",
    "\n",
    "By default, the `.` is a character set that includes all characters besides the newline character (`\\n`). The **DOTALL** flag makes `.` match every character, including `\\n`. This is particularly useful in multiline texts."
   ]
  },
  {
   "cell_type": "code",
   "execution_count": 2,
   "id": "74437308",
   "metadata": {},
   "outputs": [
    {
     "name": "stdout",
     "output_type": "stream",
     "text": [
      "['Python', 'Programming']\n",
      "['Python\\nProgramming']\n",
      "['Python\\nProgramming']\n"
     ]
    }
   ],
   "source": [
    "print(re.findall(\"P.+\", \"Python\\nProgramming\"))\n",
    "print(re.findall(\"P.+\", \"Python\\nProgramming\", flags=re.DOTALL))\n",
    "print(re.findall(\"P.+\", \"Python\\nProgramming\", flags=re.S))"
   ]
  },
  {
   "cell_type": "markdown",
   "id": "f5c6bc39",
   "metadata": {},
   "source": [
    "## `re.IGNORECASE`\n",
    "\n",
    "By default, regex matches are case-sensitive. Therefore, the words `code` and `CODE` and `cOdE` are considered entirely different.\n",
    "\n",
    "However, in some situations, we do not care about whether a character is in upper case or lower case. In such a scenario, we can use the `re.IGNORECASE` flag to turn on case-insensitive mode."
   ]
  },
  {
   "cell_type": "code",
   "execution_count": 3,
   "id": "90cfb537",
   "metadata": {},
   "outputs": [
    {
     "name": "stdout",
     "output_type": "stream",
     "text": [
      "['code']\n",
      "['code', 'CODE', 'cOdE', 'CoDe']\n"
     ]
    }
   ],
   "source": [
    "print(re.findall(\"code\", \"code CODE cOdE CoDe\"))\n",
    "print(re.findall(\"code\", \"code CODE cOdE CoDe\", flags=re.IGNORECASE))"
   ]
  },
  {
   "cell_type": "code",
   "execution_count": 4,
   "id": "0392aa45",
   "metadata": {},
   "outputs": [
    {
     "name": "stdout",
     "output_type": "stream",
     "text": [
      "['uture', 'rogrammer']\n",
      "['FutureProgrammer']\n",
      "['F', 'P']\n",
      "['FutureProgrammer']\n"
     ]
    }
   ],
   "source": [
    "print(re.findall(\"[a-z]+\", \"FutureProgrammer\"))\n",
    "print(re.findall(\"[a-z]+\", \"FutureProgrammer\", flags=re.I))\n",
    "\n",
    "print(re.findall(\"[A-Z]+\", \"FutureProgrammer\"))\n",
    "print(re.findall(\"[A-Z]+\", \"FutureProgrammer\", flags=re.I))"
   ]
  },
  {
   "cell_type": "markdown",
   "id": "20d99b25",
   "metadata": {},
   "source": [
    "## `re.MULTILINE`\n",
    "\n",
    "By default, the line anchor characters `^` and `$` match the beginning and end of a **string**.\n",
    "\n",
    "When the `re.MULTILINE` flag is used, the `^` and `$` characters not only match the beginning and end of strings, but also the beginning and end of **lines**."
   ]
  },
  {
   "cell_type": "code",
   "execution_count": 5,
   "id": "37909ca6",
   "metadata": {},
   "outputs": [
    {
     "name": "stdout",
     "output_type": "stream",
     "text": [
      "['Regular']\n",
      "['Regular', 'Expressions']\n"
     ]
    }
   ],
   "source": [
    "print(re.findall(r\"^\\w+\", \"Regular\\nExpressions\"))\n",
    "print(re.findall(r\"^\\w+\", \"Regular\\nExpressions\", flags=re.MULTILINE))"
   ]
  },
  {
   "cell_type": "code",
   "execution_count": 6,
   "id": "4ac458f4",
   "metadata": {},
   "outputs": [
    {
     "name": "stdout",
     "output_type": "stream",
     "text": [
      "['Expressions']\n",
      "['Regular', 'Expressions']\n"
     ]
    }
   ],
   "source": [
    "print(re.findall(r\"\\w+$\", \"Regular\\nExpressions\"))\n",
    "print(re.findall(r\"\\w+$\", \"Regular\\nExpressions\", flags=re.M))"
   ]
  },
  {
   "cell_type": "markdown",
   "id": "005ab84f",
   "metadata": {},
   "source": [
    "## `re.VERBOSE`\n",
    "\n",
    "Using the `re.VERBOSE` flag allows regular expression patterns to be formatted in more human-readable ways.\n",
    "\n",
    "Some regular expressions are very complicated and hard to read. Here is how the **verbose** mode makes patterns easier to read:\n",
    "* **Whitespaces are ignored** unless in a character class or escaped\n",
    "* **Comments are allowed** unless in a character class or escaped"
   ]
  },
  {
   "cell_type": "code",
   "execution_count": 7,
   "id": "932a0059",
   "metadata": {},
   "outputs": [
    {
     "name": "stdout",
     "output_type": "stream",
     "text": [
      "<re.Match object; span=(0, 8), match='abc-1234'>\n"
     ]
    }
   ],
   "source": [
    "pattern = re.compile(r\"\"\"\n",
    "[a-z]{3}  # 3 letters\n",
    "-\n",
    "\\d{4}  # 4 numbers\n",
    "\"\"\", flags=re.VERBOSE)\n",
    "print(pattern.search(\"abc-1234\"))"
   ]
  },
  {
   "cell_type": "markdown",
   "id": "4f567326",
   "metadata": {},
   "source": [
    "## Combining flags\n",
    "\n",
    "What if we want to compile a regular expression pattern with more than one flag? Say, what if we want to write a regex in verbose mode, while ignoring whether letters are in upper case or lower case?\n",
    "\n",
    "Multiple regex flags can be combined using the bitwise OR operator, `|`."
   ]
  },
  {
   "cell_type": "code",
   "execution_count": 8,
   "id": "27f089c0",
   "metadata": {},
   "outputs": [
    {
     "name": "stdout",
     "output_type": "stream",
     "text": [
      "<re.Match object; span=(0, 8), match='AbC-1234'>\n"
     ]
    }
   ],
   "source": [
    "pattern = re.compile(r\"\"\"\n",
    "[a-z]{3}  # 3 letters\n",
    "-\n",
    "\\d{4}  # 4 numbers\n",
    "\"\"\", flags=re.VERBOSE | re.IGNORECASE)\n",
    "print(pattern.search(\"AbC-1234\"))"
   ]
  },
  {
   "cell_type": "markdown",
   "id": "bf9630cc",
   "metadata": {},
   "source": [
    "## Summary\n",
    "\n",
    "That is all for this lesson on compilation flags in regular expressions. Now, you have learned how to enable different features of regex for patterns to behave differently depending on your specific programs."
   ]
  }
 ],
 "metadata": {
  "kernelspec": {
   "display_name": "Python 3 (ipykernel)",
   "language": "python",
   "name": "python3"
  },
  "language_info": {
   "codemirror_mode": {
    "name": "ipython",
    "version": 3
   },
   "file_extension": ".py",
   "mimetype": "text/x-python",
   "name": "python",
   "nbconvert_exporter": "python",
   "pygments_lexer": "ipython3",
   "version": "3.10.7"
  }
 },
 "nbformat": 4,
 "nbformat_minor": 5
}
