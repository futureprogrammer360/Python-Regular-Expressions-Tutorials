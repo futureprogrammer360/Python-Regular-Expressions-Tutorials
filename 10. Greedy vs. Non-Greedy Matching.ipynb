{
 "cells": [
  {
   "cell_type": "markdown",
   "id": "7e807dcd",
   "metadata": {},
   "source": [
    "# Greedy vs. Non-Greedy Matching\n",
    "\n",
    "With regular expressions, repetition modifiers have two modes: **greedy** and **non-greedy**. This lesson will teach you the differences between them, when to use each, and their syntaxes."
   ]
  },
  {
   "cell_type": "code",
   "execution_count": 1,
   "id": "2f54ce12",
   "metadata": {},
   "outputs": [],
   "source": [
    "import re"
   ]
  },
  {
   "cell_type": "markdown",
   "id": "4a424385",
   "metadata": {},
   "source": [
    "## Greedy matching\n",
    "\n",
    "Greedy mode is the default behavior of regular expressions.\n",
    "\n",
    "Greedy quantifiers attempt to match **as much text as possible** given an entire regex pattern.\n",
    "\n",
    "HTML code is the classic example to demonstrate this."
   ]
  },
  {
   "cell_type": "code",
   "execution_count": 2,
   "id": "843459ff",
   "metadata": {},
   "outputs": [
    {
     "name": "stdout",
     "output_type": "stream",
     "text": [
      "['<title>Regex</title>']\n"
     ]
    }
   ],
   "source": [
    "pattern = re.compile(\"<.*>\")\n",
    "print(pattern.findall(\"<title>Regex</title>\"))"
   ]
  },
  {
   "cell_type": "markdown",
   "id": "abe10460",
   "metadata": {},
   "source": [
    "Notice that even though the text has two pairs of tags `<...>`, the matching only resulted in one match. This is the behavior of greedy quantifiers. The \"greedy\" means the `*` metacharacter attempts to extend the matching as far as possible.\n",
    "\n",
    "Technically, the matching is correct: the match matches the given pattern. However, it is likely the intent of the code is to match `<title>` and `</title>` separately instead of the entire string."
   ]
  },
  {
   "cell_type": "markdown",
   "id": "5c2ea4cb",
   "metadata": {},
   "source": [
    "## Non-greedy matching\n",
    "\n",
    "If we want to match the opening and closing tags separately, we can use non-greedy quantifiers. Non-greedy matching, aka lazy matching, matches **as few characters as possible**.\n",
    "\n",
    "The syntax for non-greedy quantifiers is simply adding `?` after the default greedy repetition modifier.\n",
    "\n",
    "Here are the greedy and non-greedy quantifiers.\n",
    "\n",
    "| Greedy  | Non-greedy |\n",
    "|---------|------------|\n",
    "| `*`     | `*?`       |\n",
    "| `+`     | `+?`       |\n",
    "| `?`     | `??`       |\n",
    "| `{m}`   | `{m}?`     |\n",
    "| `{m,n}` | `{m,n}?`   |"
   ]
  },
  {
   "cell_type": "code",
   "execution_count": 3,
   "id": "31c0a6d9",
   "metadata": {},
   "outputs": [
    {
     "name": "stdout",
     "output_type": "stream",
     "text": [
      "['<title>', '</title>']\n"
     ]
    }
   ],
   "source": [
    "pattern = re.compile(\"<.*?>\")\n",
    "print(pattern.findall(\"<title>Regex</title>\"))"
   ]
  },
  {
   "cell_type": "code",
   "execution_count": 4,
   "id": "b45ae0f2",
   "metadata": {},
   "outputs": [
    {
     "name": "stdout",
     "output_type": "stream",
     "text": [
      "[':123: :123:']\n",
      "[':123:', ':123:']\n"
     ]
    }
   ],
   "source": [
    "# Greedy\n",
    "pattern = re.compile(\":.+:\")\n",
    "print(pattern.findall(\":123: :123:\"))\n",
    "\n",
    "# Non-greedy\n",
    "pattern = re.compile(\":.+?:\")\n",
    "print(pattern.findall(\":123: :123:\"))"
   ]
  },
  {
   "cell_type": "markdown",
   "id": "401554a3",
   "metadata": {},
   "source": [
    "## Summary\n",
    "\n",
    "While perhaps not present in every program, the differences between greedy and non-greedy matching can introduce some tricky bugs to our code if we are not too careful. Now you know how to debug this issue in Python programs involving regular expressions!"
   ]
  }
 ],
 "metadata": {
  "kernelspec": {
   "display_name": "Python 3 (ipykernel)",
   "language": "python",
   "name": "python3"
  },
  "language_info": {
   "codemirror_mode": {
    "name": "ipython",
    "version": 3
   },
   "file_extension": ".py",
   "mimetype": "text/x-python",
   "name": "python",
   "nbconvert_exporter": "python",
   "pygments_lexer": "ipython3",
   "version": "3.10.7"
  }
 },
 "nbformat": 4,
 "nbformat_minor": 5
}
