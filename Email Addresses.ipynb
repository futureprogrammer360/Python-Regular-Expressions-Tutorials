{
 "cells": [
  {
   "cell_type": "markdown",
   "id": "b725e6a9",
   "metadata": {},
   "source": [
    "# Email Addresses\n",
    "\n",
    "In this project, we will be doing 2 things:\n",
    "1. Write a regular expression that defines the pattern of an email address\n",
    "2. Use that pattern to perform operations"
   ]
  },
  {
   "cell_type": "markdown",
   "id": "daea8a7a",
   "metadata": {},
   "source": [
    "Firstly, the pattern.\n",
    "\n",
    "The regular expression that matches the official email format looks something like this\n",
    "\n",
    "```(?:[a-z0-9!#$%&'*+/=?^_`{|}~-]+(?:\\.[a-z0-9!#$%&'*+/=?^_`{|}~-]+)*|\"(?:[\\x01-\\x08\\x0b\\x0c\\x0e-\\x1f\\x21\\x23-\\x5b\\x5d-\\x7f]|\\\\[\\x01-\\x09\\x0b\\x0c\\x0e-\\x7f])*\")@(?:(?:[a-z0-9](?:[a-z0-9-]*[a-z0-9])?\\.)+[a-z0-9](?:[a-z0-9-]*[a-z0-9])?|\\[(?:(?:25[0-5]|2[0-4][0-9]|[01]?[0-9][0-9]?)\\.){3}(?:25[0-5]|2[0-4][0-9]|[01]?[0-9][0-9]?|[a-z0-9-]*[a-z0-9]:(?:[\\x01-\\x08\\x0b\\x0c\\x0e-\\x1f\\x21-\\x5a\\x53-\\x7f]|\\\\[\\x01-\\x09\\x0b\\x0c\\x0e-\\x7f])+)\\])```\n",
    "\n",
    "This is not only almost impossible to read, but also overkill for almost any applications."
   ]
  },
  {
   "cell_type": "markdown",
   "id": "30453959",
   "metadata": {},
   "source": [
    "For the purpose of this tutorial, we will be using a more simple definition of email addresses.\n",
    "\n",
    "With this definition, an email address is made up of 3 parts\n",
    "* Username\n",
    "* `@`\n",
    "* Domain\n",
    "\n",
    "The username can contain alphanumeric characters and the symbols ```!#$%&'*+-/=?^_`{|}~```.\n",
    "\n",
    "The domain is made up of parts separated by `.`. Each part can contain alphanumeric characters and the `-` character."
   ]
  },
  {
   "cell_type": "markdown",
   "id": "bd6e2bcf",
   "metadata": {},
   "source": [
    "A regular expression of such an email address would look like this (new lines for readability):\n",
    "\n",
    "```\n",
    "[a-zA-Z0-9!#$%&'*+-/=?^_`{|}~]+\n",
    "@\n",
    "[a-zA-Z0-9-]+\n",
    "\\.\n",
    "[a-zA-Z0-9-.]+\n",
    "```"
   ]
  },
  {
   "cell_type": "markdown",
   "id": "e8dcdf1f",
   "metadata": {},
   "source": [
    "Putting it in Python code..."
   ]
  },
  {
   "cell_type": "code",
   "execution_count": 1,
   "id": "14e86b3d",
   "metadata": {},
   "outputs": [],
   "source": [
    "import re\n",
    "\n",
    "pattern = re.compile(r\"\"\"\n",
    "[a-zA-Z0-9!#$%&'*+-/=?^_`{|}~]+\n",
    "@\n",
    "[a-zA-Z0-9-]+\n",
    "\\.\n",
    "[a-zA-Z0-9-.]+\n",
    "\"\"\", flags=re.VERBOSE)"
   ]
  },
  {
   "cell_type": "code",
   "execution_count": 2,
   "id": "5e9cd358",
   "metadata": {},
   "outputs": [
    {
     "name": "stdout",
     "output_type": "stream",
     "text": [
      "<re.Match object; span=(0, 16), match='user@example.com'>\n",
      "<re.Match object; span=(0, 31), match='person123@subdomain.example.org'>\n",
      "<re.Match object; span=(0, 22), match='admin+help@company.com'>\n",
      "None\n",
      "None\n"
     ]
    }
   ],
   "source": [
    "print(pattern.fullmatch(\"user@example.com\"))\n",
    "print(pattern.fullmatch(\"person123@subdomain.example.org\"))\n",
    "print(pattern.fullmatch(\"admin+help@company.com\"))\n",
    "\n",
    "print(pattern.fullmatch(\"abc@com\"))\n",
    "print(pattern.fullmatch(\"contact@.net\"))"
   ]
  },
  {
   "cell_type": "markdown",
   "id": "08ef6fb4",
   "metadata": {},
   "source": [
    "In addition to verifying whether a string is an email address, we can also modify the regex pattern for other purposes."
   ]
  },
  {
   "cell_type": "code",
   "execution_count": 3,
   "id": "4b0b160e",
   "metadata": {},
   "outputs": [],
   "source": [
    "pattern = re.compile(r\"\"\"\n",
    "\\b\n",
    "([a-zA-Z0-9!#$%&'*+-/=?^_`{|}~]+)\n",
    "@\n",
    "([a-zA-Z0-9-]+\\.[a-zA-Z0-9-.]+)\n",
    "\\b\n",
    "\"\"\", flags=re.VERBOSE)"
   ]
  },
  {
   "cell_type": "code",
   "execution_count": 4,
   "id": "bf8ee194",
   "metadata": {},
   "outputs": [
    {
     "name": "stdout",
     "output_type": "stream",
     "text": [
      "<re.Match object; span=(20, 35), match='email@regex.com'>\n",
      "email\n",
      "regex.com\n"
     ]
    }
   ],
   "source": [
    "mo = pattern.search(\"My email address is email@regex.com\")\n",
    "print(mo)\n",
    "print(mo.group(1))\n",
    "print(mo.group(2))"
   ]
  },
  {
   "cell_type": "markdown",
   "id": "8c26433d",
   "metadata": {},
   "source": [
    "## Summary\n",
    "\n",
    "That's all for today's lesson on using regular expressions to match email addresses. While there are drawbacks to using a more simple email regex pattern as we did, the pattern above is all we need for most scenarios. Now you know how to write an email address regex pattern and use it in different ways."
   ]
  }
 ],
 "metadata": {
  "kernelspec": {
   "display_name": "Python 3 (ipykernel)",
   "language": "python",
   "name": "python3"
  },
  "language_info": {
   "codemirror_mode": {
    "name": "ipython",
    "version": 3
   },
   "file_extension": ".py",
   "mimetype": "text/x-python",
   "name": "python",
   "nbconvert_exporter": "python",
   "pygments_lexer": "ipython3",
   "version": "3.10.7"
  }
 },
 "nbformat": 4,
 "nbformat_minor": 5
}
