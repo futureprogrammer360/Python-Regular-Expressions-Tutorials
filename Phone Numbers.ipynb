{
 "cells": [
  {
   "cell_type": "markdown",
   "id": "0ae90e84",
   "metadata": {},
   "source": [
    "# Phone Numbers\n",
    "\n",
    "In today's lesson, we will talk about using regular expressions to verify, locate, and split a phone number in Python."
   ]
  },
  {
   "cell_type": "markdown",
   "id": "de5cf59d",
   "metadata": {},
   "source": [
    "## Pattern\n",
    "\n",
    "For the purpose of this lesson, we're only considering North American phone numbers with the following format (+1 is optional)\n",
    "\n",
    "```\n",
    "+1 (XXX) XXX-XXXX\n",
    "```\n",
    "\n",
    "All of the following are also valid formats of such a phone number:\n",
    "\n",
    "* `+1XXXXXXXXXX`\n",
    "* `XXX-XXX-XXXX`\n",
    "* `XXX-XXXXXXX`"
   ]
  },
  {
   "cell_type": "markdown",
   "id": "fbd80fb0",
   "metadata": {},
   "source": [
    "Below is a regular expression pattern that matches such as a phone number format."
   ]
  },
  {
   "cell_type": "code",
   "execution_count": 1,
   "id": "7dd28aee",
   "metadata": {},
   "outputs": [],
   "source": [
    "import re\n",
    "\n",
    "pattern = re.compile(\"\"\"\n",
    "(\\+1\\ ?)? # optional +1 and space\n",
    "\\(?       # optional (\n",
    "[0-9]{3}\n",
    "\\)?       # optional )\n",
    "[- ]?     # optional - or space\n",
    "[0-9]{3}\n",
    "-?        # optional -\n",
    "[0-9]{4}\n",
    "\"\"\", flags = re.VERBOSE)"
   ]
  },
  {
   "cell_type": "markdown",
   "id": "f1d274f2",
   "metadata": {},
   "source": [
    "## Matching"
   ]
  },
  {
   "cell_type": "code",
   "execution_count": 2,
   "id": "64f8fe0e",
   "metadata": {},
   "outputs": [
    {
     "name": "stdout",
     "output_type": "stream",
     "text": [
      "<re.Match object; span=(0, 14), match='(800) 555-0175'>\n",
      "<re.Match object; span=(0, 17), match='+1 (800) 555-0175'>\n",
      "<re.Match object; span=(0, 12), match='800-555-0175'>\n",
      "<re.Match object; span=(0, 11), match='800-5550175'>\n",
      "None\n",
      "None\n"
     ]
    }
   ],
   "source": [
    "print(pattern.fullmatch(\"(800) 555-0175\"))\n",
    "print(pattern.fullmatch(\"+1 (800) 555-0175\"))\n",
    "print(pattern.fullmatch(\"800-555-0175\"))\n",
    "print(pattern.fullmatch(\"800-5550175\"))\n",
    "\n",
    "print(pattern.fullmatch(\"123\"))\n",
    "print(pattern.fullmatch(\"(123) (123) (123)\"))"
   ]
  },
  {
   "cell_type": "code",
   "execution_count": 3,
   "id": "abe3343c",
   "metadata": {},
   "outputs": [
    {
     "name": "stdout",
     "output_type": "stream",
     "text": [
      "Valid phone number\n"
     ]
    }
   ],
   "source": [
    "user_input = \"+18005550175\"\n",
    "\n",
    "if pattern.fullmatch(user_input):\n",
    "    print(\"Valid phone number\")\n",
    "else:\n",
    "    print(\"Invalid phone number, please try again\")"
   ]
  },
  {
   "cell_type": "markdown",
   "id": "fecae3c0",
   "metadata": {},
   "source": [
    "We can also modify the regular expression pattern to do more than verifying a phone number."
   ]
  },
  {
   "cell_type": "code",
   "execution_count": 4,
   "id": "4784295a",
   "metadata": {},
   "outputs": [],
   "source": [
    "import re\n",
    "\n",
    "pattern = re.compile(\"\"\"\n",
    "(\\+1\\ ?)? # optional +1 and space\n",
    "\\(?       # optional (\n",
    "([0-9]{3})\n",
    "\\)?       # optional )\n",
    "[- ]?     # optional - or space\n",
    "([0-9]{3})\n",
    "-?        # optional -\n",
    "([0-9]{4})\n",
    "\"\"\", flags = re.VERBOSE)"
   ]
  },
  {
   "cell_type": "code",
   "execution_count": 5,
   "id": "62705495",
   "metadata": {},
   "outputs": [
    {
     "name": "stdout",
     "output_type": "stream",
     "text": [
      "<re.Match object; span=(19, 34), match='+1 800-555-0175'>\n",
      "+1 \n",
      "800\n",
      "555\n",
      "0175\n",
      "+1 (800) 555-0175\n"
     ]
    }
   ],
   "source": [
    "mo = pattern.search(\"My phone number is +1 800-555-0175\")\n",
    "print(mo)\n",
    "print(mo.group(1))\n",
    "print(mo.group(2))\n",
    "print(mo.group(3))\n",
    "print(mo.group(4))\n",
    "\n",
    "num = f\"{mo.group(1).strip()} ({mo.group(2)}) {mo.group(3)}-{mo.group(4)}\"\n",
    "print(num)"
   ]
  },
  {
   "cell_type": "markdown",
   "id": "4da2455c",
   "metadata": {},
   "source": [
    "## Summary\n",
    "\n",
    "That's all for today's lesson. I encourage you to experiment with the regular expression further, to consider features such as extensions, additional formats, edge cases, and more. Have fun!"
   ]
  }
 ],
 "metadata": {
  "kernelspec": {
   "display_name": "Python 3 (ipykernel)",
   "language": "python",
   "name": "python3"
  },
  "language_info": {
   "codemirror_mode": {
    "name": "ipython",
    "version": 3
   },
   "file_extension": ".py",
   "mimetype": "text/x-python",
   "name": "python",
   "nbconvert_exporter": "python",
   "pygments_lexer": "ipython3",
   "version": "3.10.7"
  }
 },
 "nbformat": 4,
 "nbformat_minor": 5
}
