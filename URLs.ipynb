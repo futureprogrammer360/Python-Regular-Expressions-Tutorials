{
 "cells": [
  {
   "cell_type": "markdown",
   "id": "84fd057e",
   "metadata": {},
   "source": [
    "# URLs\n",
    "\n",
    "In this lesson, you will learn to craft regular expressions to match URLs in Python.\n",
    "\n",
    "URL is short for *Uniform Resource Locator*, and a URL is simply a web address or a link, a location on the Web."
   ]
  },
  {
   "cell_type": "markdown",
   "id": "4f2afbe5",
   "metadata": {},
   "source": [
    "## Pattern\n",
    "\n",
    "A URL is made up of several parts. Taking the following URL as example:\n",
    "\n",
    "```\n",
    "https://www.example.com/path\n",
    "```\n",
    "\n",
    "Here,\n",
    "\n",
    "* `https` is the **scheme/protocol**\n",
    "* `www.example.com` is the **domain**\n",
    "* `path` is the **path**\n",
    "\n",
    "Some URLs contain additional components, but the ones above will be our focus in this lesson. I encrouage you to research and modify your regex code to accomodate for these extra parts."
   ]
  },
  {
   "cell_type": "markdown",
   "id": "54d09de1",
   "metadata": {},
   "source": [
    "Let's create a regular expression to match this pattern.\n",
    "\n",
    "```\n",
    "(https://|http://)?\n",
    "([a-zA-Z0-9]+\\.)\n",
    "([a-zA-Z0-9]+\\.?)+\n",
    "(/[\\w.-]*)*\n",
    "```\n",
    "\n",
    "Converting into Python code..."
   ]
  },
  {
   "cell_type": "code",
   "execution_count": 1,
   "id": "abc70f8c",
   "metadata": {},
   "outputs": [],
   "source": [
    "import re\n",
    "\n",
    "pattern = re.compile(\"\"\"\n",
    "(https://|http://)?\n",
    "([a-zA-Z0-9]+\\.)\n",
    "([a-zA-Z0-9]+\\.?)+\n",
    "(/[\\w.-]*)*\n",
    "\"\"\", flags = re.VERBOSE)"
   ]
  },
  {
   "cell_type": "markdown",
   "id": "05b39e7d",
   "metadata": {},
   "source": [
    "Now let's try matching this pattern against various valid and invalid URLs."
   ]
  },
  {
   "cell_type": "code",
   "execution_count": 2,
   "id": "e6cb5e07",
   "metadata": {},
   "outputs": [
    {
     "name": "stdout",
     "output_type": "stream",
     "text": [
      "<re.Match object; span=(0, 28), match='https://www.example.com/path'>\n",
      "<re.Match object; span=(0, 10), match='google.com'>\n",
      "<re.Match object; span=(0, 39), match='https://docs.python.org/library/re.html'>\n",
      "<re.Match object; span=(0, 20), match='https://example.com/'>\n",
      "\n",
      "None\n",
      "None\n",
      "None\n",
      "None\n"
     ]
    }
   ],
   "source": [
    "print(pattern.fullmatch(\"https://www.example.com/path\"))\n",
    "print(pattern.fullmatch(\"google.com\"))\n",
    "print(pattern.fullmatch(\"https://docs.python.org/library/re.html\"))\n",
    "print(pattern.fullmatch(\"https://example.com/\"))\n",
    "\n",
    "print()\n",
    "print(pattern.fullmatch(\"https://www.example com\"))\n",
    "print(pattern.fullmatch(\"example.\"))\n",
    "print(pattern.fullmatch(\"http://.example.com\"))\n",
    "print(pattern.fullmatch(\"https://example..com\"))"
   ]
  },
  {
   "cell_type": "markdown",
   "id": "6a2c8bda",
   "metadata": {},
   "source": [
    "## Summary\n",
    "\n",
    "That's it for today's lesson on matching URLs with regular expressions.\n",
    "\n",
    "The pattern we created today is capable of matching most URLs, but I intentionally left off certain URL components and edge cases. I strongly encourage you to take some time looking into modifying our pattern to fit more unusual yet valid URLs.\n",
    "\n",
    "If you haven't realized yet, regular expressions are very versatile, but the first step to any pattern is understanding what we want to match. If you know the pattern, you can write a regular expression for it."
   ]
  }
 ],
 "metadata": {
  "kernelspec": {
   "display_name": "Python 3 (ipykernel)",
   "language": "python",
   "name": "python3"
  },
  "language_info": {
   "codemirror_mode": {
    "name": "ipython",
    "version": 3
   },
   "file_extension": ".py",
   "mimetype": "text/x-python",
   "name": "python",
   "nbconvert_exporter": "python",
   "pygments_lexer": "ipython3",
   "version": "3.10.7"
  }
 },
 "nbformat": 4,
 "nbformat_minor": 5
}
